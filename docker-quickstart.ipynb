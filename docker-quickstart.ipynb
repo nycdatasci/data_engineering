{
 "cells": [
  {
   "cell_type": "markdown",
   "metadata": {},
   "source": [
    "<img src=\"https://www.docker.com/sites/default/files/social/docker_twitter_share_new.png?4362984378\" width=200>"
   ]
  },
  {
   "cell_type": "markdown",
   "metadata": {},
   "source": [
    "# Docker QuickStart\n",
    "\n",
    "This guide is indended to provide users with basic information required to set up programming environments by running docker containers using NYCDSA's pre-built docker images. "
   ]
  },
  {
   "cell_type": "markdown",
   "metadata": {},
   "source": [
    "## 1. What is Docker\n",
    "\n",
    "Docker is a computer program that runs software packages called \"containers\". Containers bundle their own tools, libraries and configuration files. Containers allow users to package an application with all of its dependencies into a standardized unit for software development or deployment. Containers are created from \"images\" that specify their precise contents."
   ]
  },
  {
   "cell_type": "markdown",
   "metadata": {},
   "source": [
    "### Images & Containers\n",
    "\n",
    "- **Image**: an executable package that includes everything needed to run an application - the code, a runtime, libraries, environment variables, and configuration files.\n",
    "  - You can choose to build your own images or to use existing ones \n",
    "  - For all our courses, the docker images (Linux-based) have already been built and you only need to pull them from Docker Hub.\n",
    "\n",
    "- **Container**: a runtime instance of an image - what the image becomes in memory when executed (that is, an image with state, or a user process).\n",
    "  - Once you have the image pulled on your computer, you can start the container from Docker engine\n",
    "  - Containers isolate software from its environment and ensure that it works uniformly no matter where and when you run it."
   ]
  },
  {
   "cell_type": "markdown",
   "metadata": {},
   "source": [
    "## 2. How to Use Docker\n",
    "\n",
    "To use docker you need to:\n",
    "\n",
    "1. make sure Docker is installed and running on your system\n",
    "2. pull the image that contains the environment/applications you need\n",
    "3. start a container\n",
    "4. you can then use the container just like use a computer with pre-built environment and apps\n",
    "5. to exit a running container, simply type `exit` and hit **ENTER** from the command line of that container\n",
    "\n",
    "If you already know how to use it, you can skip this part and jump to **3. Example: setting up linux environment and running jupyter notebook**"
   ]
  },
  {
   "cell_type": "markdown",
   "metadata": {},
   "source": [
    "### 2.1 Install Docker\n",
    "\n",
    "- Follow the <a href=\"https://docs.docker.com/install/\" target=\"_blank\">instruction</a> or the links below to install Docker:\n",
    "  - [Install Docker for MAC](https://docs.docker.com/docker-for-mac/install/)\n",
    "  - [Install Docker for Windows](https://docs.docker.com/docker-for-windows/install/)\n",
    "\n",
    "- For older Mac and Windows systems that do not meet minimal system requirements for running Docker, you can install <a href=\"https://docs.docker.com/toolbox/toolbox_install_windows/\" target=\"_blank\">Docker Toolbox</a> which runs docker inside Oracle VirtualBox.\n",
    "  - If you are using Docker Toolbox, please start from the **Docker QuickStart Terminal** and follow the same instruction for Mac because the terminal is using bash. \n",
    "  \n",
    "- For docker for Mac/Windows, the docker IP is `localhost` or `127.0.0.1`. If you are using Docker toolbox, your IP address is the VM's IP, which can be found by running the command below inside Docker QuickStart Terminal: \n",
    "  >```\n",
    "  docker-machine ip\n",
    "  ```"
   ]
  },
  {
   "cell_type": "markdown",
   "metadata": {},
   "source": [
    "### 2.2 Pull Docker Images\n",
    "\n",
    "To run an container, you need to download the image first. Most popular images are available on Docker Hub (similar to Github). Please first sign up on <a href=\"https://hub.docker.com/\" target=\"_blank\">Docker Hub</a> and then start the docker service by clicking the lovely whale icon.\n",
    "\n",
    "Open the command line interface (CLI) that's available to you, (**terminal** for MAC users, **Command Prompt** for Windows users, and **Docker QuickStart Terminal** for Docker Toolbox users) and run:\n",
    "\n",
    ">```\n",
    "docker pull <docker IMAGE>\n",
    "```\n",
    "\n",
    "It might take a while to download the image depending on the size of the images and your internet speed. You only need to pull the same image once and it will be saved on your computer unless deleted.\n",
    "\n",
    "Once the image is downloaded, you can check the image's IMAGE ID and REPOSITORY by executing the following command:\n",
    "\n",
    ">```\n",
    "docker image ls\n",
    "```\n",
    "\n",
    "For images that are no longer needed, you can delete them from your computer. To delete a docker image, first find its IMAGE ID (or REPOSITORY) by running the command above, then do:\n",
    "\n",
    ">```\n",
    "docker image rm -f <IMAGE ID>\n",
    "```"
   ]
  },
  {
   "cell_type": "markdown",
   "metadata": {},
   "source": [
    "### 2.3 Run a Container\n",
    "\n",
    "Run the following command in your CLI to start a docker container:\n",
    "\n",
    "> ```\n",
    "docker run -it --rm \\\n",
    "-p hostPort:containerPort \\\n",
    "-v host-src:container-dest \\\n",
    "<docker IMAGE> \n",
    "bash\n",
    "```\n",
    "\n",
    "Flags:\n",
    "- `-it` runs a container in interactive processes.\n",
    "- `--rm`(optional) removes the container when it exits or when the daemon exits.\n",
    "- `-p hostPort:containerPort`(recommended) forwards a container᾿s port to the host.\n",
    "- `-v host-src:container-dest`(recommended) mounts a host directory the container so files can be shared between them. \n",
    "- `bash` starts the command line of the container in the terminal. \n",
    "  - Depending how the image was built, you may or may not need it."
   ]
  },
  {
   "cell_type": "markdown",
   "metadata": {},
   "source": [
    "### 2.4 Stop a container\n",
    "\n",
    "To stop a container you simple type `exit` inside a container, and it will automatically stop."
   ]
  },
  {
   "cell_type": "markdown",
   "metadata": {},
   "source": [
    "### 2.5 Remove a stopped container\n",
    "\n",
    "If you didn't use `--rm` flag when you start a container, then you need to manually remove it. \n",
    "\n",
    "- to remove a stopped container, you first need to find the CONTAINER ID via:\n",
    ">```\n",
    "docker ps -a\n",
    "```\n",
    "\n",
    "- then run:\n",
    ">```\n",
    "docker container rm -f <CONTAINER ID>\n",
    "```"
   ]
  },
  {
   "cell_type": "markdown",
   "metadata": {},
   "source": [
    "## 3. Example: setting up linux environment and running jupyter notebook\n",
    "\n",
    "`nycdsa/linux-toolkits` is a Linux (Ubuntu 16.04) based docker image with Python 3, MySQL, and Jupyter notebook installed.\n",
    "\n",
    "1. Pull image `nycdsa/linux-toolkits` from Docker hub. \n",
    "\n",
    ">```\n",
    "docker pull nycdsa/linux-toolkits\n",
    "```\n",
    "\n",
    "2. Change your working directory to a directory where you want to be working in, e,g,. where data, notebooks, etc. are saved, and run docker container:\n",
    "\n",
    "  - MAC and Docker Toolbox:\n",
    "  >```\n",
    "docker run -it --rm \\\n",
    "-p 8888:8888 \\\n",
    "-v $(pwd):/home/ubuntu/Workspace \\\n",
    "nycdsa/linux-toolkits\n",
    "```\n",
    "\n",
    "  - Windows:\n",
    "  >```\n",
    "docker run -it --rm ^\n",
    "-p 8888:8888 ^\n",
    "-v %cd%:/home/ubuntu/Workspace ^\n",
    "nycdsa/linux-toolkits\n",
    "```\n",
    "\n",
    "**Note**: `$(pwd)` or `%cd%` represents the current *working directory* on the host, and `-v` sync it with the directory `/home/ubuntu/Workspace` in your container.\n",
    "\n",
    "3. Run `jupyter notebook` from the container and copy the URL to your browser:\n",
    "  - For MAC/Windows users: http://127.0.0.1:8888\n",
    "  - For Docker Toolbox user: http://[docker-machine ip]:8888"
   ]
  },
  {
   "cell_type": "code",
   "execution_count": null,
   "metadata": {},
   "outputs": [],
   "source": []
  }
 ],
 "metadata": {
  "kernelspec": {
   "display_name": "Python 3",
   "language": "python",
   "name": "python3"
  },
  "language_info": {
   "codemirror_mode": {
    "name": "ipython",
    "version": 3
   },
   "file_extension": ".py",
   "mimetype": "text/x-python",
   "name": "python",
   "nbconvert_exporter": "python",
   "pygments_lexer": "ipython3",
   "version": "3.5.2"
  }
 },
 "nbformat": 4,
 "nbformat_minor": 2
}
